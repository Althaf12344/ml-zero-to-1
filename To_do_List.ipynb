{
  "nbformat": 4,
  "nbformat_minor": 0,
  "metadata": {
    "colab": {
      "provenance": [],
      "authorship_tag": "ABX9TyNeNu4R2UxFQUWl+pz2I7DF",
      "include_colab_link": true
    },
    "kernelspec": {
      "name": "python3",
      "display_name": "Python 3"
    },
    "language_info": {
      "name": "python"
    }
  },
  "cells": [
    {
      "cell_type": "markdown",
      "metadata": {
        "id": "view-in-github",
        "colab_type": "text"
      },
      "source": [
        "<a href=\"https://colab.research.google.com/github/Althaf12344/ml-zero-to-1/blob/main/To_do_List.ipynb\" target=\"_parent\"><img src=\"https://colab.research.google.com/assets/colab-badge.svg\" alt=\"Open In Colab\"/></a>"
      ]
    },
    {
      "cell_type": "markdown",
      "source": [
        "To-do-list\n",
        "\n",
        "\n",
        "\n",
        "Features:\n",
        "1. Add a task\n",
        "2. view all tasks\n",
        "3. remove a task\n",
        "4. save tasks automatically\n",
        "5. Smart menu with input validation\n"
      ],
      "metadata": {
        "id": "aOh9uc3Mb972"
      }
    },
    {
      "cell_type": "code",
      "source": [
        "def show_menu():\n",
        "    print(\"\\n==== TO-DO LIST ====\")\n",
        "    print(\"1. View Tasks\")\n",
        "    print(\"2. Add a task\")\n",
        "    print(\"3. Remove a task\")\n",
        "    print(\"4. EXIT\")\n",
        "\n",
        "\n",
        "def load_tasks():\n",
        "    try:\n",
        "        with open(\"tasks.txt\", \"r\") as file:\n",
        "            for line in file:\n",
        "                tasks.append(line.strip())\n",
        "    except FileNotFoundError:\n",
        "        pass\n",
        "\n",
        "\n",
        "def save_tasks():\n",
        "    with open(\"tasks.txt\", \"w\") as file:\n",
        "        for task in tasks:\n",
        "            file.write(task + \"\\n\")\n",
        "\n",
        "\n",
        "tasks = []\n",
        "load_tasks()\n",
        "\n",
        "while True:\n",
        "    show_menu()\n",
        "    choice = input(\"Enter your choice (1-4): \")\n",
        "\n",
        "    if choice == \"1\":\n",
        "        print(\"\\nYour tasks:\")\n",
        "        if len(tasks) == 0:\n",
        "            print(\"No tasks yet!\")\n",
        "        else:\n",
        "            for i, task in enumerate(tasks, start=1):\n",
        "                print(f\"{i}. {task}\")\n",
        "\n",
        "    elif choice == \"2\":\n",
        "        new_task = input(\"Enter new task: \")\n",
        "        tasks.append(new_task)\n",
        "        print(\"Task added.\")\n",
        "\n",
        "    elif choice == \"3\":\n",
        "        if len(tasks) == 0:\n",
        "            print(\"No tasks to remove!\")\n",
        "        else:\n",
        "            for i, task in enumerate(tasks, start=1):\n",
        "                print(f\"{i}. {task}\")\n",
        "            try:\n",
        "                remove_index = int(input(\"Enter the task number to remove: \"))\n",
        "                if 1 <= remove_index <= len(tasks):\n",
        "                    removed = tasks.pop(remove_index - 1)\n",
        "                    print(f\"Removed: {removed}\")\n",
        "                else:\n",
        "                    print(\"Invalid task number.\")\n",
        "            except ValueError:\n",
        "                print(\"Please enter a valid number.\")\n",
        "\n",
        "    elif choice == \"4\":\n",
        "        save_tasks()\n",
        "        print(\"Tasks saved. Goodbye!\")\n",
        "        break\n",
        "\n",
        "    else:\n",
        "        print(\"Invalid choice. Please try again.\")\n"
      ],
      "metadata": {
        "colab": {
          "base_uri": "https://localhost:8080/"
        },
        "id": "UWWb6CjZb38V",
        "outputId": "2fa2b81b-9df2-465f-9ae9-9180c6e81831"
      },
      "execution_count": 10,
      "outputs": [
        {
          "output_type": "stream",
          "name": "stdout",
          "text": [
            "\n",
            "==== TO-DO LIST ====\n",
            "1. View Tasks\n",
            "2. Add a task\n",
            "3. Remove a task\n",
            "4. EXIT\n",
            "Enter your choice (1-4): 1\n",
            "\n",
            "Your tasks:\n",
            "No tasks yet!\n",
            "\n",
            "==== TO-DO LIST ====\n",
            "1. View Tasks\n",
            "2. Add a task\n",
            "3. Remove a task\n",
            "4. EXIT\n",
            "Enter your choice (1-4): 2\n",
            "Enter new task: althAF ML LEARNIJNG\n",
            "Task added.\n",
            "\n",
            "==== TO-DO LIST ====\n",
            "1. View Tasks\n",
            "2. Add a task\n",
            "3. Remove a task\n",
            "4. EXIT\n",
            "Enter your choice (1-4): 3\n",
            "1. althAF ML LEARNIJNG\n",
            "Enter the task number to remove: 1\n",
            "Removed: althAF ML LEARNIJNG\n",
            "\n",
            "==== TO-DO LIST ====\n",
            "1. View Tasks\n",
            "2. Add a task\n",
            "3. Remove a task\n",
            "4. EXIT\n",
            "Enter your choice (1-4): 4\n",
            "Tasks saved. Goodbye!\n"
          ]
        }
      ]
    },
    {
      "cell_type": "code",
      "source": [],
      "metadata": {
        "id": "fXLXbII1gWWR"
      },
      "execution_count": null,
      "outputs": []
    }
  ]
}